{
 "cells": [
  {
   "cell_type": "code",
   "execution_count": 1,
   "metadata": {
    "tags": []
   },
   "outputs": [],
   "source": [
    "import sys\n",
    "sys.path.append('C:/maldb/python/mlp/')\n",
    "\n",
    "import tensorflow as tf\n",
    "from tensorflow import keras\n",
    "\n",
    "import numpy as np\n",
    "np.set_printoptions(threshold=np.inf)\n",
    "\n",
    "import matplotlib.pyplot as plt\n",
    "\n",
    "from ionizer import *"
   ]
  },
  {
   "cell_type": "code",
   "execution_count": 2,
   "metadata": {
    "tags": []
   },
   "outputs": [],
   "source": [
    "#When we shuffle our training and test arrays, we need to shuffle them in unison so that the indices in the labels array line up with their corresponding peptide in the training array.\n",
    "def unison_shuffled_copies(a, b):\n",
    "    assert len(a) == len(b)\n",
    "    p = np.random.permutation(len(a))\n",
    "    return a[p], b[p]\n",
    "\n",
    "#To avoid feeding wildly varying numbers into the NN, we normalize things by subtracting the mean from each feature value and dividing by the standard deviation\n",
    "def normalize_data(data):\n",
    "    mean = data.mean(axis=0)\n",
    "    data -= mean\n",
    "\n",
    "    std = data.std(axis=0)\n",
    "    data /= std\n",
    "    \n",
    "    return data"
   ]
  },
  {
   "cell_type": "code",
   "execution_count": 3,
   "metadata": {
    "tags": []
   },
   "outputs": [],
   "source": [
    "from keras import models\n",
    "from keras import layers\n",
    "from keras import regularizers\n",
    "\n",
    "#Lets make our dense model\n",
    "def build_model():\n",
    "\n",
    "    model = models.Sequential()\n",
    "    model.add(layers.Dense(128, activation='relu', kernel_regularizer=regularizers.l2(0.001), input_shape=(feature_vector_length,)))\n",
    "    model.add(layers.Dropout(0.2))\n",
    "    model.add(layers.Dense(128, activation='relu', kernel_regularizer=regularizers.l2(0.001)))\n",
    "    model.add(layers.Dropout(0.2))\n",
    "    model.add(layers.Dense(128, activation='relu', kernel_regularizer=regularizers.l2(0.001)))\n",
    "    model.add(layers.Dropout(0.2))\n",
    "    model.add(layers.Dense(128, activation='relu', kernel_regularizer=regularizers.l2(0.001)))\n",
    "    model.add(layers.Dropout(0.2))\n",
    "    model.add(layers.Dense(128, activation='relu', kernel_regularizer=regularizers.l2(0.001)))\n",
    "    model.add(layers.Dense(1, activation='sigmoid'))\n",
    "\n",
    "    model.compile(\n",
    "        optimizer='rmsprop', \n",
    "        loss='binary_crossentropy', \n",
    "        metrics=[\n",
    "            keras.metrics.BinaryAccuracy(name=\"binary_accuracy\", dtype=None, threshold=0.5),\n",
    "            tf.keras.metrics.Precision(), \n",
    "            tf.keras.metrics.Recall()\n",
    "        ]\n",
    "    )\n",
    "    \n",
    "    return model "
   ]
  },
  {
   "cell_type": "code",
   "execution_count": 4,
   "metadata": {
    "tags": []
   },
   "outputs": [],
   "source": [
    "#Get the data from the excel sheet, calculate feature vectors for each entry (row) using ionizers.py\n",
    "train_data, train_seqs, train_labels = get_ionizer_training_data('C:/maldb/python/mlp/data/ionizers.csv')\n",
    "\n",
    "#Let's vectorize our sequences\n",
    "x_train = normalize_data(train_data).astype('float32')\n",
    "y_train = train_labels.astype('float32')\n",
    "x_train, y_train = unison_shuffled_copies(x_train, y_train)\n",
    "\n",
    "#Cut features\n",
    "x_train = x_train[:, :50]\n",
    "\n",
    "#Make a test set\n",
    "test_set_size = 50\n",
    "x_test = x_train[:test_set_size]\n",
    "y_test = y_train[:test_set_size]\n",
    "\n",
    "x_train = x_train[test_set_size:]\n",
    "y_train = y_train[test_set_size:]\n",
    "\n",
    "#For the input layer\n",
    "feature_vector_length = x_train.shape[1]"
   ]
  },
  {
   "cell_type": "code",
   "execution_count": 5,
   "metadata": {
    "tags": []
   },
   "outputs": [
    {
     "name": "stdout",
     "output_type": "stream",
     "text": [
      "Processing fold # 0\n",
      "Validation partition =   0 123\n",
      "Training partition 1 =  0 0\n",
      "Training partition 2 =  123 616\n",
      "Processing fold # 1\n",
      "Validation partition =   123 246\n",
      "Training partition 1 =  0 123\n",
      "Training partition 2 =  246 616\n",
      "Processing fold # 2\n",
      "Validation partition =   246 369\n",
      "Training partition 1 =  0 246\n",
      "Training partition 2 =  369 616\n",
      "Processing fold # 3\n",
      "Validation partition =   369 492\n",
      "Training partition 1 =  0 369\n",
      "Training partition 2 =  492 616\n",
      "Processing fold # 4\n",
      "Validation partition =   492 615\n",
      "Training partition 1 =  0 492\n",
      "Training partition 2 =  615 616\n"
     ]
    }
   ],
   "source": [
    "#Define the number of folds... this will give us an 80/20 split\n",
    "k = 5\n",
    "epochs = 120\n",
    "num_val_samples = len(x_train) // k\n",
    "scores_binacc = []\n",
    "scores_precision = []\n",
    "scores_recall = []\n",
    "\n",
    "#Train the dense model in k iterations\n",
    "for i in range(k):\n",
    "    print('Processing fold #', i)\n",
    "    val_data = x_train[i * num_val_samples : (i + 1) * num_val_samples]\n",
    "    val_targets = y_train[i * num_val_samples : (i + 1) * num_val_samples]\n",
    "    \n",
    "    print('Validation partition =  ', i * num_val_samples, (i + 1) * num_val_samples)\n",
    "    print('Training partition 1 = ', 0, i * num_val_samples)\n",
    "    print('Training partition 2 = ', (i+1) * num_val_samples, len(x_train))\n",
    "    \n",
    "    partial_train_data = np.concatenate(\n",
    "        [\n",
    "            x_train[:i * num_val_samples],\n",
    "            x_train[(i+1) * num_val_samples:]\n",
    "        ], \n",
    "        axis=0\n",
    "    )\n",
    "    \n",
    "    partial_train_targets = np.concatenate(\n",
    "        [\n",
    "            y_train[:i * num_val_samples],\n",
    "            y_train[(i+1) * num_val_samples:]\n",
    "        ],\n",
    "        axis=0\n",
    "    )\n",
    "    \n",
    "    model = build_model()\n",
    "    model.fit(\n",
    "        partial_train_data, \n",
    "        partial_train_targets, \n",
    "        epochs=epochs, \n",
    "        verbose=0\n",
    "    )\n",
    "    \n",
    "    val_loss, val_binacc, val_precision, val_recall = model.evaluate(val_data, val_targets, verbose=0)\n",
    "    scores_binacc.append(val_binacc)\n",
    "    scores_precision.append(val_precision)\n",
    "    scores_recall.append(val_recall)"
   ]
  },
  {
   "cell_type": "code",
   "execution_count": 6,
   "metadata": {},
   "outputs": [
    {
     "name": "stdout",
     "output_type": "stream",
     "text": [
      "Mean Validation Binary Accuracy:  0.9341487646102905\n",
      "Mean Validation Precision:  0.9129393815994262\n",
      "Mean Validation Recall:  0.8955269813537597\n"
     ]
    }
   ],
   "source": [
    "print('Mean Validation Binary Accuracy: ', np.mean(scores_binacc))\n",
    "print('Mean Validation Precision: ', np.mean(scores_precision))\n",
    "print('Mean Validation Recall: ', np.mean(scores_recall))"
   ]
  },
  {
   "cell_type": "code",
   "execution_count": 7,
   "metadata": {},
   "outputs": [
    {
     "name": "stdout",
     "output_type": "stream",
     "text": [
      "[0. 0. 0. 1. 1. 0. 0. 0. 1. 0. 0. 0. 0. 0. 1. 0. 1. 0. 0. 0. 1. 0. 1. 0.\n",
      " 0. 1. 0. 0. 1. 1. 1. 1. 1. 0. 0. 0. 1. 0. 0. 0. 0. 1. 1. 0. 0. 0. 0. 0.\n",
      " 0. 0.]\n",
      "Test Binary Accuracy:  0.84\n",
      "Test Precision:  0.78571427\n",
      "Test Recall:  0.6875\n"
     ]
    }
   ],
   "source": [
    "x_test_predictions = model.predict(np.array(x_test))\n",
    "\n",
    "b = keras.metrics.BinaryAccuracy()\n",
    "p = keras.metrics.Precision() \n",
    "r = keras.metrics.Recall()\n",
    "\n",
    "print(y_test)\n",
    "\n",
    "b.update_state(\n",
    "    [y_test],\n",
    "    [x_test_predictions]\n",
    ")\n",
    "p.update_state(\n",
    "    [y_test],\n",
    "    [x_test_predictions]\n",
    ")\n",
    "r.update_state(\n",
    "    [y_test],\n",
    "    [x_test_predictions]\n",
    ")\n",
    "\n",
    "print('Test Binary Accuracy: ', b.result().numpy())\n",
    "print('Test Precision: ', p.result().numpy())\n",
    "print('Test Recall: ', r.result().numpy())"
   ]
  },
  {
   "cell_type": "code",
   "execution_count": 22,
   "metadata": {
    "collapsed": true,
    "jupyter": {
     "outputs_hidden": true
    }
   },
   "outputs": [
    {
     "name": "stdout",
     "output_type": "stream",
     "text": [
      "dict_keys(['loss', 'binary_accuracy', 'precision_2', 'recall_2', 'val_loss', 'val_binary_accuracy', 'val_precision_2', 'val_recall_2'])\n"
     ]
    },
    {
     "data": {
      "image/png": "[encoded data removed]",
      "text/plain": [
       "<Figure size 432x288 with 1 Axes>"
      ]
     },
     "metadata": {
      "needs_background": "light"
     },
     "output_type": "display_data"
    }
   ],
   "source": [
    "history_dict = history.history\n",
    "print(history_dict.keys())\n",
    "e = range(1, epochs + 1)\n",
    "\n",
    "loss = history_dict['loss']\n",
    "val_loss = history_dict['val_loss']\n",
    "plt.plot(e, loss, 'r-', label='Training loss')\n",
    "plt.plot(e, val_loss, 'g-', label='Validation loss')\n",
    "plt.title('Training and validation loss')\n",
    "plt.xlabel('Epochs')\n",
    "plt.ylabel('Loss')\n",
    "plt.legend()\n",
    "plt.show()"
   ]
  },
  {
   "cell_type": "code",
   "execution_count": 23,
   "metadata": {},
   "outputs": [],
   "source": [
    "#We should randomly shuffle our data before splitting it into training and test sets\n",
    "#The peptides were deposited into the array on a per-protein basis, so each protein may have a specific AA composition, properties etc.\n",
    "#Thus, if the first 85% of our data were soluble proteins, and the last 15% were membrane proteins, we are likely to have poor prediction since our model never saw/had a chance to learn on membrane peptides!\n",
    "\n",
    "#Shuffle!\n",
    "x_train, y_train = unison_shuffled_copies(x_train, y_train)"
   ]
  },
  {
   "cell_type": "code",
   "execution_count": 24,
   "metadata": {},
   "outputs": [],
   "source": [
    "#Slice the training and validation sets\n",
    "partial_x_train = x_train[:split]\n",
    "x_val = x_train[split:]\n",
    "\n",
    "partial_y_train = y_train[:split]\n",
    "y_val = y_train[split:]"
   ]
  },
  {
   "cell_type": "code",
   "execution_count": 25,
   "metadata": {
    "collapsed": true,
    "jupyter": {
     "outputs_hidden": true
    }
   },
   "outputs": [
    {
     "data": {
      "text/plain": [
       "<matplotlib.legend.Legend at 0x2b775c68100>"
      ]
     },
     "execution_count": 25,
     "metadata": {},
     "output_type": "execute_result"
    },
    {
     "data": {
      "image/png": "[encoded data removed]",
      "text/plain": [
       "<Figure size 432x288 with 1 Axes>"
      ]
     },
     "metadata": {
      "needs_background": "light"
     },
     "output_type": "display_data"
    }
   ],
   "source": [
    "loss_values = history_dict['loss']\n",
    "val_loss_values = history_dict['val_loss']\n",
    "plt.plot(e, loss_values, 'r-', label='Training Loss')\n",
    "plt.plot(e, val_loss_values, 'g-', label='Validation Loss')\n",
    "plt.title('Training and validation loss')\n",
    "plt.xlabel('Epochs')\n",
    "plt.ylabel('Loss')\n",
    "plt.legend()\n"
   ]
  },
  {
   "cell_type": "code",
   "execution_count": 26,
   "metadata": {
    "collapsed": true,
    "jupyter": {
     "outputs_hidden": true
    }
   },
   "outputs": [
    {
     "data": {
      "image/png": "[encoded data removed]",
      "text/plain": [
       "<Figure size 432x288 with 1 Axes>"
      ]
     },
     "metadata": {
      "needs_background": "light"
     },
     "output_type": "display_data"
    }
   ],
   "source": [
    "acc_values = history_dict['binary_accuracy']\n",
    "val_acc_values = history_dict['val_binary_accuracy']\n",
    "plt.plot(e, acc_values, 'r-', label='Training binary accuracy')\n",
    "plt.plot(e, val_acc_values, 'g-', label='Validation binary accuracy')\n",
    "plt.title('Training and validation binary accuracy')\n",
    "plt.xlabel('Epochs')\n",
    "plt.ylabel('Binary Accuracy')\n",
    "plt.legend()\n",
    "plt.show()"
   ]
  },
  {
   "cell_type": "code",
   "execution_count": 10,
   "metadata": {
    "collapsed": true,
    "jupyter": {
     "outputs_hidden": true
    }
   },
   "outputs": [
    {
     "ename": "KeyError",
     "evalue": "'precision_10'",
     "output_type": "error",
     "traceback": [
      "\u001b[1;31m---------------------------------------------------------------------------\u001b[0m",
      "\u001b[1;31mKeyError\u001b[0m                                  Traceback (most recent call last)",
      "\u001b[1;32m<ipython-input-10-ac6578c94389>\u001b[0m in \u001b[0;36m<module>\u001b[1;34m\u001b[0m\n\u001b[1;32m----> 1\u001b[1;33m \u001b[0macc_values\u001b[0m \u001b[1;33m=\u001b[0m \u001b[0mhistory_dict\u001b[0m\u001b[1;33m[\u001b[0m\u001b[1;34m'precision_10'\u001b[0m\u001b[1;33m]\u001b[0m\u001b[1;33m\u001b[0m\u001b[1;33m\u001b[0m\u001b[0m\n\u001b[0m\u001b[0;32m      2\u001b[0m \u001b[0mval_acc_values\u001b[0m \u001b[1;33m=\u001b[0m \u001b[0mhistory_dict\u001b[0m\u001b[1;33m[\u001b[0m\u001b[1;34m'val_precision_10'\u001b[0m\u001b[1;33m]\u001b[0m\u001b[1;33m\u001b[0m\u001b[1;33m\u001b[0m\u001b[0m\n\u001b[0;32m      3\u001b[0m \u001b[0mplt\u001b[0m\u001b[1;33m.\u001b[0m\u001b[0mplot\u001b[0m\u001b[1;33m(\u001b[0m\u001b[0me\u001b[0m\u001b[1;33m,\u001b[0m \u001b[0macc_values\u001b[0m\u001b[1;33m,\u001b[0m \u001b[1;34m'r-'\u001b[0m\u001b[1;33m,\u001b[0m \u001b[0mlabel\u001b[0m\u001b[1;33m=\u001b[0m\u001b[1;34m'Training precision'\u001b[0m\u001b[1;33m)\u001b[0m\u001b[1;33m\u001b[0m\u001b[1;33m\u001b[0m\u001b[0m\n\u001b[0;32m      4\u001b[0m \u001b[0mplt\u001b[0m\u001b[1;33m.\u001b[0m\u001b[0mplot\u001b[0m\u001b[1;33m(\u001b[0m\u001b[0me\u001b[0m\u001b[1;33m,\u001b[0m \u001b[0mval_acc_values\u001b[0m\u001b[1;33m,\u001b[0m \u001b[1;34m'g-'\u001b[0m\u001b[1;33m,\u001b[0m \u001b[0mlabel\u001b[0m\u001b[1;33m=\u001b[0m\u001b[1;34m'Validation precision'\u001b[0m\u001b[1;33m)\u001b[0m\u001b[1;33m\u001b[0m\u001b[1;33m\u001b[0m\u001b[0m\n\u001b[0;32m      5\u001b[0m \u001b[0mplt\u001b[0m\u001b[1;33m.\u001b[0m\u001b[0mtitle\u001b[0m\u001b[1;33m(\u001b[0m\u001b[1;34m'Training and validation binary precision'\u001b[0m\u001b[1;33m)\u001b[0m\u001b[1;33m\u001b[0m\u001b[1;33m\u001b[0m\u001b[0m\n",
      "\u001b[1;31mKeyError\u001b[0m: 'precision_10'"
     ]
    }
   ],
   "source": [
    "acc_values = history_dict['precision_10']\n",
    "val_acc_values = history_dict['val_precision_10']\n",
    "plt.plot(e, acc_values, 'r-', label='Training precision')\n",
    "plt.plot(e, val_acc_values, 'g-', label='Validation precision')\n",
    "plt.title('Training and validation binary precision')\n",
    "plt.xlabel('Epochs')\n",
    "plt.ylabel('precision')\n",
    "plt.legend()\n",
    "plt.show()"
   ]
  },
  {
   "cell_type": "code",
   "execution_count": 112,
   "metadata": {},
   "outputs": [
    {
     "data": {
      "text/plain": [
       "(array([397.,  15.,   7.,   2.,   1.,   1.,   0.,   0.,   1.,   2.,   0.,\n",
       "          0.,   0.,   0.,   0.,   0.,   2.,   0.,   0.,   0.,   0.,   1.,\n",
       "          1.,   1.,   1.,   0.,   0.,   0.,   0.,   3.,   0.,   0.,   1.,\n",
       "          0.,   0.,   1.,   0.,   1.,   0.,   0.,   0.,   0.,   2.,   2.,\n",
       "          3.,   3.,   3.,   6.,  18., 191.]),\n",
       " array([3.6779263e-15, 2.0000000e-02, 3.9999999e-02, 5.9999999e-02,\n",
       "        7.9999998e-02, 1.0000000e-01, 1.2000000e-01, 1.4000000e-01,\n",
       "        1.6000000e-01, 1.8000001e-01, 2.0000000e-01, 2.2000000e-01,\n",
       "        2.3999999e-01, 2.5999999e-01, 2.8000000e-01, 3.0000001e-01,\n",
       "        3.1999999e-01, 3.4000000e-01, 3.6000001e-01, 3.8000000e-01,\n",
       "        4.0000001e-01, 4.1999999e-01, 4.4000000e-01, 4.6000001e-01,\n",
       "        4.7999999e-01, 5.0000000e-01, 5.1999998e-01, 5.4000002e-01,\n",
       "        5.6000000e-01, 5.7999998e-01, 6.0000002e-01, 6.2000000e-01,\n",
       "        6.3999999e-01, 6.6000003e-01, 6.8000001e-01, 6.9999999e-01,\n",
       "        7.2000003e-01, 7.4000001e-01, 7.5999999e-01, 7.7999997e-01,\n",
       "        8.0000001e-01, 8.1999999e-01, 8.3999997e-01, 8.6000001e-01,\n",
       "        8.8000000e-01, 8.9999998e-01, 9.2000002e-01, 9.4000000e-01,\n",
       "        9.5999998e-01, 9.8000002e-01, 1.0000000e+00], dtype=float32),\n",
       " <BarContainer object of 50 artists>)"
      ]
     },
     "execution_count": 112,
     "metadata": {},
     "output_type": "execute_result"
    },
    {
     "data": {
      "image/png": "[encoded data removed]",
      "text/plain": [
       "<Figure size 432x288 with 1 Axes>"
      ]
     },
     "metadata": {
      "needs_background": "light"
     },
     "output_type": "display_data"
    }
   ],
   "source": [
    "plt.hist(model.predict(x_train), bins=50)"
   ]
  },
  {
   "cell_type": "code",
   "execution_count": 12,
   "metadata": {},
   "outputs": [
    {
     "ename": "NameError",
     "evalue": "name 'x_test' is not defined",
     "output_type": "error",
     "traceback": [
      "\u001b[1;31m---------------------------------------------------------------------------\u001b[0m",
      "\u001b[1;31mNameError\u001b[0m                                 Traceback (most recent call last)",
      "\u001b[1;32m<ipython-input-12-dd4c1de56c4e>\u001b[0m in \u001b[0;36m<module>\u001b[1;34m\u001b[0m\n\u001b[0;32m      2\u001b[0m \u001b[1;31m#y_test = ...\u001b[0m\u001b[1;33m\u001b[0m\u001b[1;33m\u001b[0m\u001b[1;33m\u001b[0m\u001b[0m\n\u001b[0;32m      3\u001b[0m \u001b[1;33m\u001b[0m\u001b[0m\n\u001b[1;32m----> 4\u001b[1;33m \u001b[0mx_test_predictions\u001b[0m \u001b[1;33m=\u001b[0m \u001b[0mmodel\u001b[0m\u001b[1;33m.\u001b[0m\u001b[0mpredict\u001b[0m\u001b[1;33m(\u001b[0m\u001b[0mnp\u001b[0m\u001b[1;33m.\u001b[0m\u001b[0marray\u001b[0m\u001b[1;33m(\u001b[0m\u001b[1;33m[\u001b[0m\u001b[0mx_test\u001b[0m\u001b[1;33m]\u001b[0m\u001b[1;33m)\u001b[0m\u001b[1;33m)\u001b[0m\u001b[1;33m\u001b[0m\u001b[1;33m\u001b[0m\u001b[0m\n\u001b[0m\u001b[0;32m      5\u001b[0m \u001b[0my_test\u001b[0m \u001b[1;33m=\u001b[0m \u001b[0my_test\u001b[0m\u001b[1;33m\u001b[0m\u001b[1;33m\u001b[0m\u001b[0m\n\u001b[0;32m      6\u001b[0m \u001b[1;33m\u001b[0m\u001b[0m\n",
      "\u001b[1;31mNameError\u001b[0m: name 'x_test' is not defined"
     ]
    }
   ],
   "source": []
  },
  {
   "cell_type": "code",
   "execution_count": null,
   "metadata": {},
   "outputs": [],
   "source": []
  },
  {
   "cell_type": "code",
   "execution_count": null,
   "metadata": {},
   "outputs": [],
   "source": []
  },
  {
   "cell_type": "code",
   "execution_count": null,
   "metadata": {},
   "outputs": [],
   "source": []
  }
 ],
 "metadata": {
  "kernelspec": {
   "display_name": "Python 3",
   "language": "python",
   "name": "python3"
  },
  "language_info": {
   "codemirror_mode": {
    "name": "ipython",
    "version": 3
   },
   "file_extension": ".py",
   "mimetype": "text/x-python",
   "name": "python",
   "nbconvert_exporter": "python",
   "pygments_lexer": "ipython3",
   "version": "3.8.5"
  }
 },
 "nbformat": 4,
 "nbformat_minor": 4
}
