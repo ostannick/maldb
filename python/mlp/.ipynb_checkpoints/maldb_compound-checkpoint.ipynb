{
 "cells": [
  {
   "cell_type": "code",
   "execution_count": 2,
   "metadata": {},
   "outputs": [],
   "source": [
    "from tensorflow import keras\n",
    "from keras.models import Model\n",
    "from keras import layers\n",
    "from keras import Input"
   ]
  },
  {
   "cell_type": "code",
   "execution_count": 10,
   "metadata": {},
   "outputs": [],
   "source": [
    "def build_model():\n",
    "\n",
    "    input_layer_sequence = Input(shape=(64,20), dtype='float32', name='Local Sequence 1D ConvNet')\n",
    "    input_layer_physchem = Input(shape=(50,), dtype='float32', name='Global Physicochemical Properties')\n",
    "    \n",
    "    seqs  = layers.Conv1D(1, kernel_size=12, activation=\"relu\", input_shape=(64,20))(input_layer_sequence)\n",
    "    seqs  = layers.MaxPooling1D(8)(seqs)\n",
    "    seqs  = layers.Conv1D(1, kernel_size=6, activation=\"relu\")(seqs)\n",
    "    seqs  = layers.GlobalMaxPooling1D()(seqs)\n",
    "    \n",
    "    dense = layers.Dense(64, activation='relu')(input_layer_physchem)\n",
    "    dense = layers.Dense(64, activation='relu')(input_layer_physchem)\n",
    "\n",
    "    concatenated = layers.concatenate([seqs, dense], axis=-1)\n",
    "    \n",
    "    output_layer_predict = layers.Dense(1, activation='sigmoid')(concatenated)\n",
    "    \n",
    "    model = Model([input_layer_sequence, input_layer_physchem], output_layer_predict)\n",
    "    \n",
    "    model.summary()\n",
    "    \n",
    "    return model"
   ]
  },
  {
   "cell_type": "code",
   "execution_count": 11,
   "metadata": {},
   "outputs": [
    {
     "name": "stdout",
     "output_type": "stream",
     "text": [
      "Model: \"model\"\n",
      "__________________________________________________________________________________________________\n",
      "Layer (type)                    Output Shape         Param #     Connected to                     \n",
      "==================================================================================================\n",
      "Local Sequence 1D ConvNet (Inpu [(None, 64, 20)]     0                                            \n",
      "__________________________________________________________________________________________________\n",
      "conv1d_5 (Conv1D)               (None, 53, 1)        241         Local Sequence 1D ConvNet[0][0]  \n",
      "__________________________________________________________________________________________________\n",
      "max_pooling1d_2 (MaxPooling1D)  (None, 6, 1)         0           conv1d_5[0][0]                   \n",
      "__________________________________________________________________________________________________\n",
      "conv1d_6 (Conv1D)               (None, 1, 1)         7           max_pooling1d_2[0][0]            \n",
      "__________________________________________________________________________________________________\n",
      "Global Physicochemical Properti [(None, 50)]         0                                            \n",
      "__________________________________________________________________________________________________\n",
      "global_max_pooling1d_2 (GlobalM (None, 1)            0           conv1d_6[0][0]                   \n",
      "__________________________________________________________________________________________________\n",
      "dense_5 (Dense)                 (None, 64)           3264        Global Physicochemical Properties\n",
      "__________________________________________________________________________________________________\n",
      "concatenate_2 (Concatenate)     (None, 65)           0           global_max_pooling1d_2[0][0]     \n",
      "                                                                 dense_5[0][0]                    \n",
      "__________________________________________________________________________________________________\n",
      "dense_6 (Dense)                 (None, 1)            66          concatenate_2[0][0]              \n",
      "==================================================================================================\n",
      "Total params: 3,578\n",
      "Trainable params: 3,578\n",
      "Non-trainable params: 0\n",
      "__________________________________________________________________________________________________\n"
     ]
    },
    {
     "data": {
      "text/plain": [
       "<keras.engine.functional.Functional at 0x2a42c9444f0>"
      ]
     },
     "execution_count": 11,
     "metadata": {},
     "output_type": "execute_result"
    }
   ],
   "source": [
    "build_model()"
   ]
  },
  {
   "cell_type": "code",
   "execution_count": null,
   "metadata": {},
   "outputs": [],
   "source": []
  }
 ],
 "metadata": {
  "kernelspec": {
   "display_name": "Python 3",
   "language": "python",
   "name": "python3"
  },
  "language_info": {
   "codemirror_mode": {
    "name": "ipython",
    "version": 3
   },
   "file_extension": ".py",
   "mimetype": "text/x-python",
   "name": "python",
   "nbconvert_exporter": "python",
   "pygments_lexer": "ipython3",
   "version": "3.8.5"
  }
 },
 "nbformat": 4,
 "nbformat_minor": 4
}
