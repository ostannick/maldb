{
 "cells": [
  {
   "cell_type": "code",
   "execution_count": 1,
   "metadata": {},
   "outputs": [
    {
     "name": "stdout",
     "output_type": "stream",
     "text": [
      "[ 2.90000000e+01  3.64219460e+03  2.41379310e-01  7.73758621e+01\n",
      "  9.19075794e+00  2.86116401e+00  6.89655172e-02  6.89655172e-02\n",
      "  3.44827586e-02  3.44827586e-02  6.89655172e-02  3.44827586e-02\n",
      "  3.44827586e-02  3.44827586e-02  1.03448276e-01  3.44827586e-02\n",
      "  3.44827586e-02  3.44827586e-02  3.44827586e-02  3.44827586e-02\n",
      "  6.89655172e-02  3.44827586e-02  3.44827586e-02  3.44827586e-02\n",
      "  6.89655172e-02  1.03448276e-01 -1.85000000e+01  3.29600000e+01\n",
      " -2.40800000e+01  7.66900000e+03 -2.72420000e+02  2.69380000e+02\n",
      "  6.23100000e+01  2.96800000e+01  2.93600000e+01  3.01200000e+01\n",
      "  2.76500000e+01  4.69000000e+01  1.52000000e+00  2.53000000e+00\n",
      "  5.80000000e+00  1.20050000e+02  1.45462000e+03  3.67200000e+00\n",
      "  5.80000000e+00  1.34000000e+00 -7.06000000e+00 -1.81000000e+00\n",
      " -1.77000000e+00 -4.10000000e-01  4.92310000e+02  1.28360000e+02\n",
      "  6.34500000e+00 -2.43000000e-01  1.65500000e+00  8.80000000e-02\n",
      " -1.55380000e+02 -2.41000000e+00  2.85200000e+01  1.79630000e+02\n",
      "  1.34120000e+02 -3.70000000e-01 -7.37000000e+00  2.70470000e+01\n",
      "  3.68200000e+01  1.40600000e+02  2.61800000e+02  2.05200000e+02\n",
      "  4.83880000e+02  1.39120000e+02  7.35700000e+01  1.32260000e+02\n",
      "  2.06000000e+00  1.30180000e+02  1.61000000e+00  1.37230000e+02\n",
      "  3.21000000e+00  1.36400000e+02  1.00000000e+00  1.32540000e+02\n",
      "  1.25160000e+02  2.96800000e+01  1.37490000e+02  1.35250000e+02\n",
      "  1.35290000e+02  1.36030000e+02  1.42000000e+02  1.38410000e+02\n",
      "  1.32810000e+02  5.71300000e+00  3.05040000e+01  1.95500000e+00\n",
      "  2.80000000e+01  2.10000000e+01  1.70000000e+01  8.00000000e+01\n",
      "  4.00000000e+00  1.80000000e+01  1.21590000e+01  1.29010000e+02\n",
      "  2.62600000e+01  2.84300000e+01  1.62500000e+01  2.15700000e+01\n",
      "  2.11700000e+01  2.65570000e+03  7.53000000e+02  1.72000000e+02\n",
      "  8.48000000e+01  7.83000000e+01 -2.80100000e+01  2.04030000e+01\n",
      "  2.32917000e+02  1.29889000e+02  1.75900000e+02  9.36800000e+00\n",
      "  9.91000000e+00  1.90900000e+01  4.63840000e+03  5.20500000e+03\n",
      "  1.38100000e+03  7.43000000e+00  2.44000000e+00  2.84900000e+01\n",
      "  2.90100000e+01  3.06900000e+01  2.84600000e+01  2.73400000e+01\n",
      "  3.02900000e+01  2.62500000e+01  2.85600000e+01  3.04800000e+01\n",
      "  3.12000000e+01  2.78900000e+01  2.78000000e+01  2.46300000e+00\n",
      "  2.33800000e+00  2.40000000e+00  2.69300000e+00  2.73900000e+01\n",
      "  8.75000000e+00  1.29900000e+01  6.57000000e+00  5.15000000e+00\n",
      "  7.62000000e+00  2.11300000e+01  1.55500000e+02  1.41200000e+02\n",
      "  1.90600000e+03  2.81600000e+01  2.69200000e+01 -5.58000000e+00\n",
      "  1.80800000e+01  6.43200000e+01 -4.16000000e+00  1.44600000e+01\n",
      "  6.66900000e+01  1.92900000e+01  1.21250000e+02  1.50970000e+02\n",
      "  4.45300000e+01  1.29730000e+02  3.45000000e+02  1.04000000e+00\n",
      "  2.80000000e+01  3.40000000e+01  6.00000000e+00  2.00000000e+00\n",
      "  1.21660000e+02  2.92700000e+01  3.17000000e+01  4.12000000e+01\n",
      "  3.26000000e+01  3.15000000e+01  2.65300000e+01  3.02200000e+01\n",
      "  3.12100000e+01  3.13900000e+01  3.02700000e+01  3.01200000e+01\n",
      "  3.01600000e+01  2.94500000e+01  2.73900000e+01  2.86400000e+01\n",
      "  2.62300000e+01  2.74300000e+01  4.20300000e+01  4.40900000e+03\n",
      "  1.70100000e+01  2.36200000e+02  2.70250000e+03 -1.49000000e+00\n",
      "  6.38000000e+01 -7.30000000e+00  1.30098000e+03  1.44593000e+03\n",
      "  6.57006000e+03  3.03100000e+01  3.02800000e+01  2.70600000e+01\n",
      "  2.71200000e+01  2.61500000e+01  2.89800000e+01  3.10400000e+01\n",
      "  2.41700000e+01  1.44990000e+03  1.04600000e+03  1.03200000e+03\n",
      "  3.84500000e+01 -6.10000000e+00  4.68500000e+01  6.00700000e+01\n",
      "  1.38500000e+00  2.09400000e+03  8.61000000e+01  1.15290000e+04\n",
      "  2.94700000e+01  2.92000000e+01  3.01900000e+01  2.80400000e+01\n",
      "  2.96780000e+01  2.83740000e+01  2.63480000e+01  9.61300000e+02\n",
      "  3.00000000e+00  1.34450000e+02  1.36480000e+02  7.96000000e+00\n",
      "  2.32360000e+03 -1.85000000e+01  6.88000000e+00 -9.70000000e+00\n",
      "  6.75500000e+01  3.26500000e+03  6.25760000e+03  4.81100000e+01\n",
      "  1.78800000e+02  5.86000000e+00  2.99300000e+01  2.90000000e+01\n",
      "  2.68700000e+01  2.94900000e+01  2.95800000e+01  2.70700000e+01\n",
      "  9.19000000e+00  3.09200000e+01  2.74300000e+01  3.21200000e+01\n",
      "  3.74310000e+02  3.01500000e+01  2.95900000e+01  2.86900000e+01\n",
      "  2.28500000e+01  2.21800000e+01  2.87700000e+01  6.19460000e+02\n",
      "  7.14000000e+01  8.93000000e+01  1.14500000e+02  9.21000000e+01\n",
      "  2.69700000e+01  2.83200000e+01  2.49800000e+03  7.69600000e+01\n",
      "  2.94200000e+01  2.93100000e+01  2.83600000e+01  3.86000000e+00\n",
      "  1.98400000e+01  2.70000000e+01 -5.03230000e+01 -3.40660000e+01\n",
      " -1.62540000e+01 -4.39911000e+02 -2.91839000e+02  5.02000000e+01\n",
      "  2.05500000e+01 -8.84000000e+00 -6.47600000e+01  1.34590000e+02\n",
      "  2.93600000e+01  2.89500000e+01  2.98100000e+01  3.00300000e+01\n",
      "  2.78000000e+01  2.88900000e+01  2.91400000e+01  2.86600000e+01\n",
      "  2.95700000e+01  3.07900000e+01  3.00800000e+01  2.96700000e+01\n",
      "  2.72800000e+01  2.55600000e+01  2.75700000e+01  2.83300000e+01\n",
      "  1.57000000e+01 -7.62400000e+01  3.64090000e+02  2.29050000e+02\n",
      "  7.78500000e+01  3.69630000e+02  4.13550000e+02  3.40160000e+02\n",
      "  1.09170000e+02  8.61200000e+00  3.05400000e+00  1.57520000e+01\n",
      "  2.07100000e+02  2.99300000e+01  2.90000000e+01  2.68300000e+01\n",
      " -5.30000000e-01 -8.60000000e-01 -5.20000000e-01  3.40000000e-01\n",
      " -1.89000000e+00 -1.51000000e+00  6.10000000e-01  2.00000000e-01\n",
      "  3.60000000e-01  1.50000000e+00  1.32000000e+00  4.80000000e-01\n",
      " -1.49000000e+00  2.70000000e-01 -2.64000000e+00 -1.09000000e+00\n",
      "  3.30000000e-01  6.90000000e-01 -3.20000000e-01 -1.22000000e+00\n",
      " -3.40000000e-01 -3.79000000e+00 -2.90000000e+00 -1.46000000e+00\n",
      " -1.26000000e+00  1.48000000e+00  1.51000000e+00  9.90000000e-01\n",
      " -1.89000000e+00 -5.40000000e-01 -8.30000000e-01 -2.54000000e+00\n",
      " -2.98000000e+00 -1.57000000e+00 -2.69000000e+00 -1.17000000e+00\n",
      "  3.00000000e-01  8.20000000e-01  2.69880000e+01  2.85450000e+01\n",
      "  4.65700000e+01  3.52600000e+01  3.19300000e+01  3.77300000e+01\n",
      "  3.61400000e+01  3.17200000e+01  3.74400000e+01  3.21700000e+01\n",
      "  2.59300000e+01  3.20100000e+01  3.48200000e+01  3.45900000e+01\n",
      "  6.21230000e+02  6.28780000e+02 -5.12800000e+01  1.94200000e+01\n",
      " -1.00460000e+02 -6.45400000e+01 -1.57730000e+02  5.17680000e+03\n",
      " -2.37900000e+01  4.08000000e+00  2.95000000e+01  2.95000000e+01\n",
      "  2.38000000e+01  3.05000000e+01  2.91000000e+01  2.79000000e+01\n",
      "  3.35000000e+01  3.16000000e+01  3.14000000e+01  3.29000000e+01\n",
      "  3.37000000e+01  3.01000000e+01  3.02000000e+01  3.23000000e+01\n",
      "  2.44000000e+01  2.74000000e+01  3.06000000e+01  7.00000000e-01\n",
      " -2.94000000e+01 -2.01000000e+01  1.16000000e+01  7.20000000e+00\n",
      "  2.70000000e+00  1.65000000e+01  1.08000000e+01  4.40000000e+00\n",
      "  1.08000000e+01  1.68000000e+01 -2.35000000e+01  8.90000000e+00\n",
      "  2.46000000e+01  4.05310000e+03  2.13100000e+01  6.17600000e+01\n",
      " -2.57000000e+00  1.79000000e+01  4.26400000e+01  2.78330000e+01\n",
      "  7.52800000e+02  3.61000000e+00  2.93900000e+01  3.09460000e+01\n",
      "  3.00270000e+01  2.66230000e+01  2.94900000e+01  3.03270000e+01\n",
      "  2.63540000e+01  2.78080000e+01  2.55590000e+01  2.86160000e+01\n",
      "  4.74600000e+00  1.12150000e+01  9.20300000e+00  1.52284000e+05\n",
      "  1.00000000e+01 -5.65000000e+00  2.11280000e+02  2.20100000e+01\n",
      "  1.68800000e+01 -6.08000000e+00  2.68000000e+00 -7.36000000e+00\n",
      "  2.13000000e+02 -3.06000000e+00  1.22600000e+01 -4.14000000e+00\n",
      " -2.43000000e+00  4.08500000e+01  4.55540000e+02  4.30030000e+02\n",
      "  1.84510000e+02  2.91200000e+02  2.87300000e+01  2.87400000e+01\n",
      "  2.82000000e+01  2.64300000e+01  2.60400000e+01  2.90100000e+01\n",
      "  2.84000000e+01  2.93600000e+01  3.11400000e+01  2.95300000e+01\n",
      "  2.90300000e+01  3.08100000e+01  3.17800000e+01  3.13200000e+01\n",
      "  2.97400000e+01  3.00100000e+01  2.73700000e+01  2.98500000e+01\n",
      "  2.76600000e+01  1.13950000e+02  3.52600000e+02  2.85920000e+01\n",
      "  3.73630000e+01  2.87770000e+01  2.31420000e+01  2.10450000e+01\n",
      "  2.60520000e+01  2.36990000e+01  1.25890000e+02 -1.25000000e+01\n",
      "  2.86000000e+01  1.55200000e+01  9.82400000e+00  9.85200000e+00\n",
      "  1.40000000e+02  1.38600000e+02  1.50300000e+02  1.45300000e+02\n",
      "  3.30800000e+02  3.22900000e+01 -1.07000000e+02 -3.31000000e+02\n",
      "  2.56000000e+02  4.89000000e+02  9.14000000e+02  9.01000000e+02\n",
      "  1.81900000e+03  2.77000000e+01  1.38300000e+02  1.37300000e+02\n",
      "  1.39400000e+02  1.42400000e+02  1.47680000e+02  1.41340000e+02\n",
      "  1.40580000e+02  1.45450000e+02  1.35990000e+02  1.38600000e+02\n",
      "  1.34760000e+02  1.41380000e+02  1.37390000e+02  1.39520000e+02\n",
      "  1.40360000e+02  4.89200000e+01  4.38700000e+03  4.43990000e+03\n",
      "  1.52290000e+00  1.85100000e+01  2.21400000e+01  3.74400000e+01\n",
      "  3.49300000e+01  3.05700000e+01  2.62600000e+01  9.40000000e+02\n",
      " -2.10700000e+01  4.37990000e+00  4.59910000e+00  4.82870000e+00\n",
      "  2.98700000e+00  1.00000000e-02 -8.00000000e-02  2.86940000e+01\n",
      "  2.87170000e+01  2.90872000e+01  2.84310000e+01  2.83740000e+01\n",
      "  2.89290000e+01  2.85810000e+01  2.90410000e+01  2.85480000e+01\n",
      "  9.75000000e+01  9.36800000e+01  4.17200000e+02  2.31820000e+00\n",
      "  4.51000000e+03  4.61720000e+03  2.80000000e+01  2.65400000e+01\n",
      " -1.70000000e-01 -2.99000000e+00  6.08000000e+00  8.05000000e+00\n",
      " -2.45200000e+01  2.18000000e+00  1.60300000e+01  1.70000000e+00\n",
      " -1.02700000e+01 -1.65000000e+00 -1.77000000e+00 -2.22000000e+00\n",
      " -1.71000000e+00  4.95000000e+01 -2.40800000e+01]\n"
     ]
    }
   ],
   "source": [
    "import sys\n",
    "sys.path.append('C:/maldb/python/mlp/')\n",
    "\n",
    "import tensorflow as tf\n",
    "from tensorflow import keras\n",
    "import numpy as np\n",
    "from ionizer import *"
   ]
  },
  {
   "cell_type": "code",
   "execution_count": 2,
   "metadata": {},
   "outputs": [],
   "source": [
    "#To avoid feeding wildly varying numbers into the NN, we normalize things by subtracting the mean from each feature value and dividing by the standard deviation\n",
    "def normalize_data(data):\n",
    "    mean = data.mean(axis=0)\n",
    "    data -= mean\n",
    "\n",
    "    std = data.std(axis=0)\n",
    "    data /= std\n",
    "    \n",
    "    return data\n",
    "\n",
    "#When we shuffle our training and test arrays, we need to shuffle them in unison so that the indices in the labels array line up with their corresponding peptide in the training array.\n",
    "def unison_shuffled_copies(a, b):\n",
    "    assert len(a) == len(b)\n",
    "    p = np.random.permutation(len(a))\n",
    "    return a[p], b[p]"
   ]
  },
  {
   "cell_type": "code",
   "execution_count": 3,
   "metadata": {},
   "outputs": [
    {
     "name": "stdout",
     "output_type": "stream",
     "text": [
      "(612, 559)\n"
     ]
    }
   ],
   "source": [
    "#Get the data from the excel sheet, calculate feature vectors for each entry (row) using ionizers.py\n",
    "train_data, train_labels = get_ionizer_training_data('C:/maldb/python/mlp/data/ionizers.csv')\n",
    "\n",
    "train_data = np.nan_to_num(train_data, nan=1.0)\n",
    "\n",
    "#Let's check out how many samples we have and the number of features we're getting from our feature vectors.\n",
    "print(train_data.shape) \n",
    "\n",
    "#Assign these values into variables for later.\n",
    "#num_samples will be used to split the data into partitions.\n",
    "#feature_vector_length is required to tell the input layer what shape it is expected to receive\n",
    "num_samples = train_data.shape[0]\n",
    "feature_vector_length = train_data.shape[1]\n",
    "\n",
    "\n",
    "split = round(0.80 * num_samples) #makes an 85/15 split of the dataset"
   ]
  },
  {
   "cell_type": "code",
   "execution_count": 4,
   "metadata": {},
   "outputs": [],
   "source": [
    "x_train = normalize_data(train_data).astype('float32')\n",
    "y_train = train_labels.astype('float32')"
   ]
  },
  {
   "cell_type": "code",
   "execution_count": 30,
   "metadata": {},
   "outputs": [],
   "source": [
    "from keras import models\n",
    "from keras import layers\n",
    "\n",
    "model = models.Sequential()\n",
    "model.add(layers.Dense(128, activation='relu', input_shape=(feature_vector_length,)))\n",
    "model.add(layers.Dense(128, activation='relu'))\n",
    "model.add(layers.Dense(1, activation='sigmoid'))\n",
    "\n",
    "model.compile(optimizer='rmsprop', loss='binary_crossentropy', metrics=['accuracy'])\n",
    "\n",
    "#We should randomly shuffle our data before splitting it into training and test sets\n",
    "#The peptides were deposited into the array on a per-protein basis, so each protein may have a specific AA composition, properties etc.\n",
    "#Thus, if the first 85% of our data were soluble proteins, and the last 15% were membrane proteins, we are likely to have poor prediction since our model never saw/had a chance to learn on membrane peptides!\n",
    "\n",
    "#Shuffle!\n",
    "x_train, y_train = unison_shuffled_copies(x_train, y_train)"
   ]
  },
  {
   "cell_type": "code",
   "execution_count": 31,
   "metadata": {},
   "outputs": [
    {
     "name": "stdout",
     "output_type": "stream",
     "text": [
      "Epoch 1/20\n",
      "16/16 [==============================] - 1s 12ms/step - loss: 0.7355 - accuracy: 0.6696 - val_loss: 1.1015 - val_accuracy: 0.4672\n",
      "Epoch 2/20\n",
      "16/16 [==============================] - 0s 1ms/step - loss: 0.5489 - accuracy: 0.7396 - val_loss: 0.4996 - val_accuracy: 0.7213\n",
      "Epoch 3/20\n",
      "16/16 [==============================] - 0s 1ms/step - loss: 0.4832 - accuracy: 0.7716 - val_loss: 0.5930 - val_accuracy: 0.6803\n",
      "Epoch 4/20\n",
      "16/16 [==============================] - 0s 1ms/step - loss: 0.4543 - accuracy: 0.7828 - val_loss: 0.7530 - val_accuracy: 0.6230\n",
      "Epoch 5/20\n",
      "16/16 [==============================] - 0s 1ms/step - loss: 0.4887 - accuracy: 0.7485 - val_loss: 0.7820 - val_accuracy: 0.5820\n",
      "Epoch 6/20\n",
      "16/16 [==============================] - 0s 1ms/step - loss: 0.4397 - accuracy: 0.8288 - val_loss: 0.5326 - val_accuracy: 0.7213\n",
      "Epoch 7/20\n",
      "16/16 [==============================] - 0s 1ms/step - loss: 0.3669 - accuracy: 0.8435 - val_loss: 0.5732 - val_accuracy: 0.7295\n",
      "Epoch 8/20\n",
      "16/16 [==============================] - 0s 1ms/step - loss: 0.3900 - accuracy: 0.7948 - val_loss: 0.4788 - val_accuracy: 0.7869\n",
      "Epoch 9/20\n",
      "16/16 [==============================] - 0s 1ms/step - loss: 0.3885 - accuracy: 0.8281 - val_loss: 0.5360 - val_accuracy: 0.7295\n",
      "Epoch 10/20\n",
      "16/16 [==============================] - 0s 1ms/step - loss: 0.3239 - accuracy: 0.8588 - val_loss: 0.5555 - val_accuracy: 0.7131\n",
      "Epoch 11/20\n",
      "16/16 [==============================] - 0s 1ms/step - loss: 0.3946 - accuracy: 0.8167 - val_loss: 0.5277 - val_accuracy: 0.7541\n",
      "Epoch 12/20\n",
      "16/16 [==============================] - 0s 1ms/step - loss: 0.3146 - accuracy: 0.8596 - val_loss: 0.6159 - val_accuracy: 0.7787\n",
      "Epoch 13/20\n",
      "16/16 [==============================] - 0s 1ms/step - loss: 0.3481 - accuracy: 0.8521 - val_loss: 0.5778 - val_accuracy: 0.6721\n",
      "Epoch 14/20\n",
      "16/16 [==============================] - 0s 1ms/step - loss: 0.3123 - accuracy: 0.8792 - val_loss: 0.6238 - val_accuracy: 0.7377\n",
      "Epoch 15/20\n",
      "16/16 [==============================] - 0s 1ms/step - loss: 0.2700 - accuracy: 0.8779 - val_loss: 0.7216 - val_accuracy: 0.6803\n",
      "Epoch 16/20\n",
      "16/16 [==============================] - 0s 1ms/step - loss: 0.3013 - accuracy: 0.8867 - val_loss: 0.5372 - val_accuracy: 0.7541\n",
      "Epoch 17/20\n",
      "16/16 [==============================] - 0s 1ms/step - loss: 0.2731 - accuracy: 0.8995 - val_loss: 0.5772 - val_accuracy: 0.7541\n",
      "Epoch 18/20\n",
      "16/16 [==============================] - 0s 1ms/step - loss: 0.2733 - accuracy: 0.8906 - val_loss: 0.6147 - val_accuracy: 0.7541\n",
      "Epoch 19/20\n",
      "16/16 [==============================] - 0s 1ms/step - loss: 0.2339 - accuracy: 0.8994 - val_loss: 0.6704 - val_accuracy: 0.6639\n",
      "Epoch 20/20\n",
      "16/16 [==============================] - 0s 1ms/step - loss: 0.2629 - accuracy: 0.8986 - val_loss: 0.6237 - val_accuracy: 0.7213\n"
     ]
    }
   ],
   "source": [
    "#Slice the training and validation sets\n",
    "partial_x_train = x_train[:split]\n",
    "x_val = x_train[split:]\n",
    "\n",
    "partial_y_train = y_train[:split]\n",
    "y_val = y_train[split:]\n",
    "\n",
    "#Train the model\n",
    "epochs = 20\n",
    "history = model.fit(partial_x_train, partial_y_train, epochs=epochs, validation_data=(x_val, y_val))"
   ]
  },
  {
   "cell_type": "code",
   "execution_count": 28,
   "metadata": {},
   "outputs": [
    {
     "name": "stdout",
     "output_type": "stream",
     "text": [
      "dict_keys(['loss', 'accuracy', 'val_loss', 'val_accuracy'])\n"
     ]
    },
    {
     "data": {
      "text/plain": [
       "<matplotlib.legend.Legend at 0x237b0551bb0>"
      ]
     },
     "execution_count": 28,
     "metadata": {},
     "output_type": "execute_result"
    },
    {
     "data": {
      "image/png": "[encoded data removed]",
      "text/plain": [
       "<Figure size 432x288 with 1 Axes>"
      ]
     },
     "metadata": {
      "needs_background": "light"
     },
     "output_type": "display_data"
    }
   ],
   "source": [
    "import matplotlib.pyplot as plt\n",
    "\n",
    "history_dict = history.history\n",
    "print(history_dict.keys())\n",
    "loss_values = history_dict['loss']\n",
    "val_loss_values = history_dict['val_loss']\n",
    "\n",
    "e = range(1, epochs + 1)\n",
    "\n",
    "plt.plot(e, loss_values, 'r-', label='Training Loss')\n",
    "plt.plot(e, val_loss_values, 'g-', label='Validation Loss')\n",
    "plt.title('Training and validation loss')\n",
    "plt.xlabel('Epochs')\n",
    "plt.ylabel('Loss')\n",
    "plt.legend()\n"
   ]
  },
  {
   "cell_type": "code",
   "execution_count": 29,
   "metadata": {},
   "outputs": [
    {
     "data": {
      "image/png": "[encoded data removed]",
      "text/plain": [
       "<Figure size 432x288 with 1 Axes>"
      ]
     },
     "metadata": {
      "needs_background": "light"
     },
     "output_type": "display_data"
    }
   ],
   "source": [
    "acc_values = history_dict['accuracy']\n",
    "val_acc_values = history_dict['val_accuracy']\n",
    "plt.plot(e, acc_values, 'r-', label='Training accuracy')\n",
    "plt.plot(e, val_acc_values, 'g-', label='Validation accuracy')\n",
    "plt.title('Training and validation accuracy')\n",
    "plt.xlabel('Epochs')\n",
    "plt.ylabel('Accuracy')\n",
    "plt.legend()\n",
    "plt.show()"
   ]
  },
  {
   "cell_type": "code",
   "execution_count": null,
   "metadata": {},
   "outputs": [],
   "source": []
  },
  {
   "cell_type": "code",
   "execution_count": null,
   "metadata": {},
   "outputs": [],
   "source": []
  },
  {
   "cell_type": "code",
   "execution_count": null,
   "metadata": {},
   "outputs": [],
   "source": []
  },
  {
   "cell_type": "code",
   "execution_count": null,
   "metadata": {},
   "outputs": [],
   "source": []
  },
  {
   "cell_type": "code",
   "execution_count": null,
   "metadata": {},
   "outputs": [],
   "source": []
  },
  {
   "cell_type": "code",
   "execution_count": null,
   "metadata": {},
   "outputs": [],
   "source": []
  }
 ],
 "metadata": {
  "kernelspec": {
   "display_name": "Python 3",
   "language": "python",
   "name": "python3"
  },
  "language_info": {
   "codemirror_mode": {
    "name": "ipython",
    "version": 3
   },
   "file_extension": ".py",
   "mimetype": "text/x-python",
   "name": "python",
   "nbconvert_exporter": "python",
   "pygments_lexer": "ipython3",
   "version": "3.8.5"
  }
 },
 "nbformat": 4,
 "nbformat_minor": 4
}
