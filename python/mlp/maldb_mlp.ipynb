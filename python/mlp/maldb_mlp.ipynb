{
 "cells": [
  {
   "cell_type": "code",
   "execution_count": 2,
   "metadata": {
    "jupyter": {
     "source_hidden": true
    },
    "tags": []
   },
   "outputs": [],
   "source": [
    "import sys\n",
    "sys.path.append('C:/maldb/python/mlp/')\n",
    "\n",
    "import tensorflow as tf\n",
    "from tensorflow import keras\n",
    "\n",
    "import numpy as np\n",
    "np.set_printoptions(threshold=np.inf)\n",
    "\n",
    "from ionizer import *"
   ]
  },
  {
   "cell_type": "code",
   "execution_count": 3,
   "metadata": {
    "jupyter": {
     "source_hidden": true
    },
    "tags": []
   },
   "outputs": [],
   "source": [
    "#To avoid feeding wildly varying numbers into the NN, we normalize things by subtracting the mean from each feature value and dividing by the standard deviation\n",
    "def normalize_data(data):\n",
    "    mean = data.mean(axis=0)\n",
    "    data -= mean\n",
    "\n",
    "    std = data.std(axis=0)\n",
    "    data /= std\n",
    "    \n",
    "    return data\n",
    "\n",
    "#When we shuffle our training and test arrays, we need to shuffle them in unison so that the indices in the labels array line up with their corresponding peptide in the training array.\n",
    "def unison_shuffled_copies(a, b):\n",
    "    assert len(a) == len(b)\n",
    "    p = np.random.permutation(len(a))\n",
    "    return a[p], b[p]\n",
    "\n",
    "def aa_to_int(char):\n",
    "    aa_map = {\n",
    "    'A': 0,\n",
    "    'C': 1,\n",
    "    'D': 2,\n",
    "    'E': 3,\n",
    "    'F': 4,\n",
    "    'G': 5,\n",
    "    'H': 6,\n",
    "    'I': 7,\n",
    "    'K': 8,\n",
    "    'L': 9,\n",
    "    'M': 10,\n",
    "    'N': 11,\n",
    "    'P': 12,\n",
    "    'Q': 13,\n",
    "    'R': 14,\n",
    "    'S': 15,\n",
    "    'T': 16,\n",
    "    'V': 17,\n",
    "    'W': 18,\n",
    "    'Y': 19\n",
    "}\n",
    "    \n",
    "    return(aa_map[char])\n",
    "\n",
    "def pad_peptide(arr, max_dim=64):\n",
    "    return np.pad(arr, [(0, max_dim - arr.shape[0]), (0, 0)])\n",
    "\n",
    "def one_hot_padded_sequence(seq):\n",
    "    chars = []\n",
    "    chars[:] = seq\n",
    "    aaints = np.vectorize(aa_to_int)(chars)\n",
    "    one_hot = keras.utils.to_categorical(aaints, num_classes=20)\n",
    "    return pad_peptide(one_hot)\n",
    "    \n",
    "def vectorize_sequences(seqs):\n",
    "    vectorized = []\n",
    "    for seq in seqs:\n",
    "        vectorized.append(one_hot_padded_sequence(seq))\n",
    "    return np.array(vectorized)"
   ]
  },
  {
   "cell_type": "code",
   "execution_count": 6,
   "metadata": {
    "jupyter": {
     "source_hidden": true
    },
    "tags": []
   },
   "outputs": [
    {
     "name": "stdout",
     "output_type": "stream",
     "text": [
      "(666, 559)\n",
      "(666, 64, 20)\n"
     ]
    }
   ],
   "source": [
    "#Get the data from the excel sheet, calculate feature vectors for each entry (row) using ionizers.py\n",
    "train_data, train_seqs, train_labels = get_ionizer_training_data('C:/maldb/python/mlp/data/ionizers.csv')\n",
    "\n",
    "#Let's vectorize our sequences\n",
    "train_seqs_vec = vectorize_sequences(train_seqs)\n",
    "\n",
    "#Let's check out how many samples we have and the number of features we're getting from our feature vectors.\n",
    "print(train_data.shape) \n",
    "print(train_seqs_vec.shape)\n",
    "\n",
    "#Assign these values into variables for later.\n",
    "#num_samples will be used to split the data into partitions.\n",
    "#feature_vector_length is required to tell the input layer what shape it is expected to receive\n",
    "num_samples = train_data.shape[0]\n",
    "feature_vector_length = train_data.shape[1]\n",
    "\n",
    "\n",
    "split = round(0.50 * num_samples) #makes an 85/15 split of the dataset"
   ]
  },
  {
   "cell_type": "code",
   "execution_count": 8,
   "metadata": {
    "jupyter": {
     "source_hidden": true
    },
    "tags": []
   },
   "outputs": [],
   "source": [
    "x_train = normalize_data(train_data).astype('float32')\n",
    "y_train = train_labels.astype('float32')"
   ]
  },
  {
   "cell_type": "code",
   "execution_count": 11,
   "metadata": {
    "tags": []
   },
   "outputs": [],
   "source": [
    "from keras import models\n",
    "from keras import layers\n",
    "from keras import regularizers\n",
    "\n",
    "#Lets make our dense model\n",
    "model = models.Sequential()\n",
    "model.add(layers.Dense(128, activation='relu', kernel_regularizer=regularizers.l2(0.005), input_shape=(feature_vector_length,)))\n",
    "model.add(layers.Dense(128, activation='relu', kernel_regularizer=regularizers.l2(0.005)))\n",
    "model.add(layers.Dense(1, activation='sigmoid'))\n",
    "\n",
    "model.compile(\n",
    "    optimizer='rmsprop', \n",
    "    loss='binary_crossentropy', \n",
    "    metrics=[\n",
    "        'accuracy', \n",
    "        keras.metrics.BinaryAccuracy(name=\"binary_accuracy\", dtype=None, threshold=0.5)\n",
    "    ]\n",
    ")"
   ]
  },
  {
   "cell_type": "code",
   "execution_count": 28,
   "metadata": {},
   "outputs": [
    {
     "name": "stdout",
     "output_type": "stream",
     "text": [
      "Epoch 1/10\n",
      "17/17 [==============================] - 0s 9ms/step - loss: 0.6905 - accuracy: 0.6447 - binary_accuracy: 0.6447 - val_loss: 0.6845 - val_accuracy: 0.6940 - val_binary_accuracy: 0.6940\n",
      "Epoch 2/10\n",
      "17/17 [==============================] - 0s 3ms/step - loss: 0.6871 - accuracy: 0.6447 - binary_accuracy: 0.6447 - val_loss: 0.6792 - val_accuracy: 0.6940 - val_binary_accuracy: 0.6940\n",
      "Epoch 3/10\n",
      "17/17 [==============================] - 0s 3ms/step - loss: 0.6837 - accuracy: 0.6447 - binary_accuracy: 0.6447 - val_loss: 0.6748 - val_accuracy: 0.6940 - val_binary_accuracy: 0.6940\n",
      "Epoch 4/10\n",
      "17/17 [==============================] - 0s 3ms/step - loss: 0.6806 - accuracy: 0.6447 - binary_accuracy: 0.6447 - val_loss: 0.6703 - val_accuracy: 0.6940 - val_binary_accuracy: 0.6940\n",
      "Epoch 5/10\n",
      "17/17 [==============================] - 0s 3ms/step - loss: 0.6776 - accuracy: 0.6447 - binary_accuracy: 0.6447 - val_loss: 0.6665 - val_accuracy: 0.6940 - val_binary_accuracy: 0.6940\n",
      "Epoch 6/10\n",
      "17/17 [==============================] - 0s 3ms/step - loss: 0.6751 - accuracy: 0.6447 - binary_accuracy: 0.6447 - val_loss: 0.6628 - val_accuracy: 0.6940 - val_binary_accuracy: 0.6940\n",
      "Epoch 7/10\n",
      "17/17 [==============================] - 0s 3ms/step - loss: 0.6726 - accuracy: 0.6447 - binary_accuracy: 0.6447 - val_loss: 0.6591 - val_accuracy: 0.6940 - val_binary_accuracy: 0.6940\n",
      "Epoch 8/10\n",
      "17/17 [==============================] - 0s 3ms/step - loss: 0.6702 - accuracy: 0.6447 - binary_accuracy: 0.6447 - val_loss: 0.6560 - val_accuracy: 0.6940 - val_binary_accuracy: 0.6940\n",
      "Epoch 9/10\n",
      "17/17 [==============================] - 0s 3ms/step - loss: 0.6682 - accuracy: 0.6447 - binary_accuracy: 0.6447 - val_loss: 0.6534 - val_accuracy: 0.6940 - val_binary_accuracy: 0.6940\n",
      "Epoch 10/10\n",
      "17/17 [==============================] - 0s 3ms/step - loss: 0.6664 - accuracy: 0.6447 - binary_accuracy: 0.6447 - val_loss: 0.6505 - val_accuracy: 0.6940 - val_binary_accuracy: 0.6940\n"
     ]
    },
    {
     "data": {
      "text/plain": [
       "<tensorflow.python.keras.callbacks.History at 0x208359e2880>"
      ]
     },
     "execution_count": 28,
     "metadata": {},
     "output_type": "execute_result"
    }
   ],
   "source": [
    "#Lets build a 1D convolutional model\n",
    "from keras.optimizers import RMSprop\n",
    "\n",
    "cmodel = models.Sequential()\n",
    "cmodel.add(layers.Conv1D(1, kernel_size=3, activation=\"relu\", input_shape=(64,20)))\n",
    "cmodel.add(layers.MaxPooling1D(5))\n",
    "cmodel.add(layers.Dense(1, activation=\"sigmoid\"))\n",
    "\n",
    "cmodel.compile(\n",
    "    optimizer='rmsprop',\n",
    "    loss='binary_crossentropy',\n",
    "    metrics=['accuracy', keras.metrics.BinaryAccuracy(name=\"binary_accuracy\", dtype=None, threshold=0.5)],\n",
    ")\n",
    "\n",
    "cmodel.fit(\n",
    "    train_seqs_vec,\n",
    "    train_labels,\n",
    "    epochs=10,\n",
    "    validation_split=0.2\n",
    ")"
   ]
  },
  {
   "cell_type": "code",
   "execution_count": 11,
   "metadata": {},
   "outputs": [],
   "source": [
    "#We should randomly shuffle our data before splitting it into training and test sets\n",
    "#The peptides were deposited into the array on a per-protein basis, so each protein may have a specific AA composition, properties etc.\n",
    "#Thus, if the first 85% of our data were soluble proteins, and the last 15% were membrane proteins, we are likely to have poor prediction since our model never saw/had a chance to learn on membrane peptides!\n",
    "\n",
    "#Shuffle!\n",
    "x_train, y_train = unison_shuffled_copies(x_train, y_train)"
   ]
  },
  {
   "cell_type": "code",
   "execution_count": 16,
   "metadata": {},
   "outputs": [],
   "source": [
    "#Slice the training and validation sets\n",
    "partial_x_train = x_train[:split]\n",
    "x_val = x_train[split:]\n",
    "\n",
    "partial_y_train = y_train[:split]\n",
    "y_val = y_train[split:]"
   ]
  },
  {
   "cell_type": "code",
   "execution_count": 17,
   "metadata": {},
   "outputs": [
    {
     "name": "stdout",
     "output_type": "stream",
     "text": [
      "21/21 [==============================] - 0s 2ms/step - loss: 9.9830 - accuracy: 0.3453\n"
     ]
    },
    {
     "data": {
      "text/plain": [
       "<tensorflow.python.keras.callbacks.History at 0x2082bcca340>"
      ]
     },
     "execution_count": 17,
     "metadata": {},
     "output_type": "execute_result"
    }
   ],
   "source": [
    "#Train the convolutional model\n"
   ]
  },
  {
   "cell_type": "code",
   "execution_count": 18,
   "metadata": {},
   "outputs": [
    {
     "name": "stdout",
     "output_type": "stream",
     "text": [
      "Epoch 1/20\n",
      "9/9 [==============================] - 0s 17ms/step - loss: 2.3222 - accuracy: 0.7068 - binary_accuracy: 0.7068 - val_loss: 2.3492 - val_accuracy: 0.6716 - val_binary_accuracy: 0.6716\n",
      "Epoch 2/20\n",
      "9/9 [==============================] - 0s 3ms/step - loss: 2.0331 - accuracy: 0.7368 - binary_accuracy: 0.7368 - val_loss: 2.2143 - val_accuracy: 0.7164 - val_binary_accuracy: 0.7164\n",
      "Epoch 3/20\n",
      "9/9 [==============================] - 0s 4ms/step - loss: 1.9585 - accuracy: 0.7744 - binary_accuracy: 0.7744 - val_loss: 2.3186 - val_accuracy: 0.4925 - val_binary_accuracy: 0.4925\n",
      "Epoch 4/20\n",
      "9/9 [==============================] - 0s 5ms/step - loss: 1.8220 - accuracy: 0.8158 - binary_accuracy: 0.8158 - val_loss: 1.9171 - val_accuracy: 0.6866 - val_binary_accuracy: 0.6866\n",
      "Epoch 5/20\n",
      "9/9 [==============================] - 0s 4ms/step - loss: 1.7030 - accuracy: 0.8459 - binary_accuracy: 0.8459 - val_loss: 1.8317 - val_accuracy: 0.7313 - val_binary_accuracy: 0.7313\n",
      "Epoch 6/20\n",
      "9/9 [==============================] - 0s 4ms/step - loss: 1.6258 - accuracy: 0.8496 - binary_accuracy: 0.8496 - val_loss: 1.7759 - val_accuracy: 0.7761 - val_binary_accuracy: 0.7761\n",
      "Epoch 7/20\n",
      "9/9 [==============================] - 0s 3ms/step - loss: 1.6267 - accuracy: 0.8195 - binary_accuracy: 0.8195 - val_loss: 1.6357 - val_accuracy: 0.7463 - val_binary_accuracy: 0.7463\n",
      "Epoch 8/20\n",
      "9/9 [==============================] - 0s 4ms/step - loss: 1.4627 - accuracy: 0.8459 - binary_accuracy: 0.8459 - val_loss: 2.1585 - val_accuracy: 0.5522 - val_binary_accuracy: 0.5522\n",
      "Epoch 9/20\n",
      "9/9 [==============================] - 0s 4ms/step - loss: 1.4943 - accuracy: 0.8496 - binary_accuracy: 0.8496 - val_loss: 1.6287 - val_accuracy: 0.6866 - val_binary_accuracy: 0.6866\n",
      "Epoch 10/20\n",
      "9/9 [==============================] - 0s 3ms/step - loss: 1.3696 - accuracy: 0.8722 - binary_accuracy: 0.8722 - val_loss: 1.5286 - val_accuracy: 0.7164 - val_binary_accuracy: 0.7164\n",
      "Epoch 11/20\n",
      "9/9 [==============================] - 0s 3ms/step - loss: 1.3061 - accuracy: 0.8910 - binary_accuracy: 0.8910 - val_loss: 1.4731 - val_accuracy: 0.7463 - val_binary_accuracy: 0.7463\n",
      "Epoch 12/20\n",
      "9/9 [==============================] - 0s 3ms/step - loss: 1.2459 - accuracy: 0.8872 - binary_accuracy: 0.8872 - val_loss: 1.5616 - val_accuracy: 0.7612 - val_binary_accuracy: 0.7612\n",
      "Epoch 13/20\n",
      "9/9 [==============================] - 0s 4ms/step - loss: 1.2656 - accuracy: 0.8647 - binary_accuracy: 0.8647 - val_loss: 1.5281 - val_accuracy: 0.7463 - val_binary_accuracy: 0.7463\n",
      "Epoch 14/20\n",
      "9/9 [==============================] - 0s 4ms/step - loss: 1.1621 - accuracy: 0.9023 - binary_accuracy: 0.9023 - val_loss: 1.3939 - val_accuracy: 0.7761 - val_binary_accuracy: 0.7761\n",
      "Epoch 15/20\n",
      "9/9 [==============================] - 0s 4ms/step - loss: 1.0871 - accuracy: 0.9060 - binary_accuracy: 0.9060 - val_loss: 1.5522 - val_accuracy: 0.6119 - val_binary_accuracy: 0.6119\n",
      "Epoch 16/20\n",
      "9/9 [==============================] - 0s 3ms/step - loss: 1.0965 - accuracy: 0.8759 - binary_accuracy: 0.8759 - val_loss: 1.5323 - val_accuracy: 0.6716 - val_binary_accuracy: 0.6716\n",
      "Epoch 17/20\n",
      "9/9 [==============================] - 0s 4ms/step - loss: 1.0217 - accuracy: 0.9173 - binary_accuracy: 0.9173 - val_loss: 1.2981 - val_accuracy: 0.7164 - val_binary_accuracy: 0.7164\n",
      "Epoch 18/20\n",
      "9/9 [==============================] - 0s 4ms/step - loss: 0.9943 - accuracy: 0.9098 - binary_accuracy: 0.9098 - val_loss: 1.3703 - val_accuracy: 0.7612 - val_binary_accuracy: 0.7612\n",
      "Epoch 19/20\n",
      "9/9 [==============================] - 0s 3ms/step - loss: 0.9791 - accuracy: 0.8835 - binary_accuracy: 0.8835 - val_loss: 1.1822 - val_accuracy: 0.7910 - val_binary_accuracy: 0.7910\n",
      "Epoch 20/20\n",
      "9/9 [==============================] - 0s 3ms/step - loss: 0.9207 - accuracy: 0.9135 - binary_accuracy: 0.9135 - val_loss: 1.3509 - val_accuracy: 0.7463 - val_binary_accuracy: 0.7463\n"
     ]
    }
   ],
   "source": [
    "#Train the dense model\n",
    "epochs = 20\n",
    "history = model.fit(partial_x_train, partial_y_train, epochs=epochs, validation_split=0.2)"
   ]
  },
  {
   "cell_type": "code",
   "execution_count": 19,
   "metadata": {},
   "outputs": [
    {
     "name": "stdout",
     "output_type": "stream",
     "text": [
      "dict_keys(['loss', 'accuracy', 'binary_accuracy', 'val_loss', 'val_accuracy', 'val_binary_accuracy'])\n"
     ]
    },
    {
     "data": {
      "text/plain": [
       "<matplotlib.legend.Legend at 0x2082d8634c0>"
      ]
     },
     "execution_count": 19,
     "metadata": {},
     "output_type": "execute_result"
    },
    {
     "data": {
      "image/png": "[encoded data removed]",
      "text/plain": [
       "<Figure size 432x288 with 1 Axes>"
      ]
     },
     "metadata": {
      "needs_background": "light"
     },
     "output_type": "display_data"
    }
   ],
   "source": [
    "import matplotlib.pyplot as plt\n",
    "\n",
    "history_dict = history.history\n",
    "print(history_dict.keys())\n",
    "loss_values = history_dict['loss']\n",
    "val_loss_values = history_dict['val_loss']\n",
    "\n",
    "e = range(1, epochs + 1)\n",
    "\n",
    "plt.plot(e, loss_values, 'r-', label='Training Loss')\n",
    "plt.plot(e, val_loss_values, 'g-', label='Validation Loss')\n",
    "plt.title('Training and validation loss')\n",
    "plt.xlabel('Epochs')\n",
    "plt.ylabel('Loss')\n",
    "plt.legend()\n"
   ]
  },
  {
   "cell_type": "code",
   "execution_count": 20,
   "metadata": {},
   "outputs": [
    {
     "data": {
      "image/png": "[encoded data removed]",
      "text/plain": [
       "<Figure size 432x288 with 1 Axes>"
      ]
     },
     "metadata": {
      "needs_background": "light"
     },
     "output_type": "display_data"
    }
   ],
   "source": [
    "acc_values = history_dict['accuracy']\n",
    "val_acc_values = history_dict['val_accuracy']\n",
    "plt.plot(e, acc_values, 'r-', label='Training accuracy')\n",
    "plt.plot(e, val_acc_values, 'g-', label='Validation accuracy')\n",
    "plt.title('Training and validation accuracy')\n",
    "plt.xlabel('Epochs')\n",
    "plt.ylabel('Accuracy')\n",
    "plt.legend()\n",
    "plt.show()"
   ]
  },
  {
   "cell_type": "code",
   "execution_count": 21,
   "metadata": {},
   "outputs": [
    {
     "data": {
      "image/png": "[encoded data removed]",
      "text/plain": [
       "<Figure size 432x288 with 1 Axes>"
      ]
     },
     "metadata": {
      "needs_background": "light"
     },
     "output_type": "display_data"
    }
   ],
   "source": [
    "acc_values = history_dict['accuracy']\n",
    "val_acc_values = history_dict['val_binary_accuracy']\n",
    "plt.plot(e, acc_values, 'r-', label='Training binary accuracy')\n",
    "plt.plot(e, val_acc_values, 'g-', label='Validation binary accuracy')\n",
    "plt.title('Training and validation binary accuracy')\n",
    "plt.xlabel('Epochs')\n",
    "plt.ylabel('Binary Accuracy')\n",
    "plt.legend()\n",
    "plt.show()"
   ]
  },
  {
   "cell_type": "code",
   "execution_count": 37,
   "metadata": {},
   "outputs": [
    {
     "name": "stdout",
     "output_type": "stream",
     "text": [
      "0.7075074970722198\n"
     ]
    },
    {
     "data": {
      "text/plain": [
       "array([[0.13889986]], dtype=float32)"
      ]
     },
     "execution_count": 37,
     "metadata": {},
     "output_type": "execute_result"
    }
   ],
   "source": [
    "print(np.array(val_acc_values).mean())\n",
    "model.predict(np.array([x_train[45]]))"
   ]
  },
  {
   "cell_type": "code",
   "execution_count": 38,
   "metadata": {},
   "outputs": [
    {
     "data": {
      "text/plain": [
       "(array([51., 35., 17., 20.,  8.,  6.,  7.,  9.,  7.,  5.,  6., 10.,  8.,\n",
       "         2.,  9.,  5.,  6.,  4.,  5.,  6.,  4.,  4.,  4.,  5.,  4.,  2.,\n",
       "         3.,  2.,  1.,  5.,  4.,  7.,  5.,  3.,  2.,  7.,  3.,  5.,  3.,\n",
       "         3.,  2.,  2.,  3.,  5.,  6.,  3.,  1.,  2.,  2.,  5.]),\n",
       " array([1.10928086e-04, 2.00213548e-02, 3.99317816e-02, 5.98422103e-02,\n",
       "        7.97526389e-02, 9.96630639e-02, 1.19573489e-01, 1.39483914e-01,\n",
       "        1.59394339e-01, 1.79304779e-01, 1.99215204e-01, 2.19125628e-01,\n",
       "        2.39036053e-01, 2.58946478e-01, 2.78856903e-01, 2.98767328e-01,\n",
       "        3.18677753e-01, 3.38588178e-01, 3.58498633e-01, 3.78409058e-01,\n",
       "        3.98319483e-01, 4.18229908e-01, 4.38140333e-01, 4.58050758e-01,\n",
       "        4.77961183e-01, 4.97871608e-01, 5.17782032e-01, 5.37692487e-01,\n",
       "        5.57602882e-01, 5.77513337e-01, 5.97423732e-01, 6.17334187e-01,\n",
       "        6.37244582e-01, 6.57155037e-01, 6.77065432e-01, 6.96975887e-01,\n",
       "        7.16886282e-01, 7.36796737e-01, 7.56707191e-01, 7.76617587e-01,\n",
       "        7.96528041e-01, 8.16438437e-01, 8.36348891e-01, 8.56259286e-01,\n",
       "        8.76169741e-01, 8.96080136e-01, 9.15990591e-01, 9.35900986e-01,\n",
       "        9.55811441e-01, 9.75721836e-01, 9.95632291e-01], dtype=float32),\n",
       " <BarContainer object of 50 artists>)"
      ]
     },
     "execution_count": 38,
     "metadata": {},
     "output_type": "execute_result"
    },
    {
     "data": {
      "image/png": "[encoded data removed]",
      "text/plain": [
       "<Figure size 432x288 with 1 Axes>"
      ]
     },
     "metadata": {
      "needs_background": "light"
     },
     "output_type": "display_data"
    }
   ],
   "source": [
    "plt.hist(model.predict(x_val), bins=50)"
   ]
  },
  {
   "cell_type": "code",
   "execution_count": null,
   "metadata": {},
   "outputs": [],
   "source": []
  },
  {
   "cell_type": "code",
   "execution_count": null,
   "metadata": {},
   "outputs": [],
   "source": []
  },
  {
   "cell_type": "code",
   "execution_count": null,
   "metadata": {},
   "outputs": [],
   "source": []
  },
  {
   "cell_type": "code",
   "execution_count": null,
   "metadata": {},
   "outputs": [],
   "source": []
  }
 ],
 "metadata": {
  "kernelspec": {
   "display_name": "Python 3",
   "language": "python",
   "name": "python3"
  },
  "language_info": {
   "codemirror_mode": {
    "name": "ipython",
    "version": 3
   },
   "file_extension": ".py",
   "mimetype": "text/x-python",
   "name": "python",
   "nbconvert_exporter": "python",
   "pygments_lexer": "ipython3",
   "version": "3.8.8"
  }
 },
 "nbformat": 4,
 "nbformat_minor": 4
}
